{
  "nbformat": 4,
  "nbformat_minor": 0,
  "metadata": {
    "colab": {
      "provenance": [],
      "authorship_tag": "ABX9TyP6v5AQ5Qn2UUkTpwQyoQiN",
      "include_colab_link": true
    },
    "kernelspec": {
      "name": "python3",
      "display_name": "Python 3"
    },
    "language_info": {
      "name": "python"
    }
  },
  "cells": [
    {
      "cell_type": "markdown",
      "metadata": {
        "id": "view-in-github",
        "colab_type": "text"
      },
      "source": [
        "<a href=\"https://colab.research.google.com/github/joelzc97-svg/TAREAS-ED1/blob/main/ADT_conjunto_en_estructura_dinamicas%2C_estaticas_y_disco.ipynb\" target=\"_parent\"><img src=\"https://colab.research.google.com/assets/colab-badge.svg\" alt=\"Open In Colab\"/></a>"
      ]
    },
    {
      "cell_type": "markdown",
      "source": [],
      "metadata": {
        "id": "2oo3TOW419ZP"
      }
    },
    {
      "cell_type": "markdown",
      "source": [
        "# **El conjunto se guarda en una lista arreglo dentro de la memoria.**\n",
        "\n",
        "Permite agregar, quitar y consultar elementos.\n",
        "\n",
        "Usa getters y setters para acceder o modificar la lista.\n",
        "\n",
        "Es simple y rápido, pero está limitado al espacio en memoria."
      ],
      "metadata": {
        "id": "V0nP3ZrE3RVO"
      }
    },
    {
      "cell_type": "code",
      "execution_count": null,
      "metadata": {
        "id": "A6iuqQsa0kmB"
      },
      "outputs": [],
      "source": [
        "class ConjuntoEstatico:\n",
        "    def __init__(self, elementos=None):\n",
        "        if elementos is None:\n",
        "            self.__elementos = []\n",
        "        else:\n",
        "            self.__elementos = list(elementos)\n",
        "\n",
        "    # Getter\n",
        "    def get_elementos(self):\n",
        "        return self.__elementos.copy()\n",
        "\n",
        "    # Setter\n",
        "    def set_elementos(self, lista):\n",
        "        self.__elementos = list(set(lista))  # elimina duplicados\n",
        "\n",
        "    def agregar(self, elemento):\n",
        "        if elemento not in self.__elementos:\n",
        "            self.__elementos.append(elemento)\n",
        "\n",
        "    def quitar(self, elemento):\n",
        "        if elemento in self.__elementos:\n",
        "            self.__elementos.remove(elemento)\n",
        "\n",
        "    def union(self, otro):\n",
        "        return ConjuntoEstatico(list(set(self.__elementos + otro.get_elementos())))\n",
        "\n",
        "    def interseccion(self, otro):\n",
        "        return ConjuntoEstatico([e for e in self.__elementos if e in otro.get_elementos()])\n",
        "\n",
        "    def diferencia(self, otro):\n",
        "        return ConjuntoEstatico([e for e in self.__elementos if e not in otro.get_elementos()])\n",
        "\n",
        "    def __str__(self):\n",
        "        return \"{\" + \", \".join(map(str, self.__elementos)) + \"}\"\n",
        "\n",
        "\n",
        "# Ejemplo de uso\n",
        "c1 = ConjuntoEstatico([1, 2, 3])\n",
        "c2 = ConjuntoEstatico([3, 4, 5])\n",
        "\n",
        "print(\"Unión:\", c1.union(c2))\n",
        "print(\"Intersección:\", c1.interseccion(c2))\n",
        "print(\"Diferencia:\", c1.diferencia(c2))\n"
      ]
    },
    {
      "cell_type": "markdown",
      "source": [
        "# **Conjunto Dinámico**\n",
        "\n",
        "El conjunto se maneja con nodos enlazados.\n",
        "\n",
        "Cada nodo guarda un dato y apunta al siguiente.\n",
        "\n",
        "Permite crecer sin un tamaño fijo.\n",
        "\n",
        "Usa métodos recursivos/iterativos para agregar, quitar y recorrer.\n",
        "\n",
        "Es más flexible que el estático, pero un poco más complejo."
      ],
      "metadata": {
        "id": "7agOGIqz18yG"
      }
    },
    {
      "cell_type": "code",
      "source": [
        "class Nodo:\n",
        "    def __init__(self, dato):\n",
        "        self.dato = dato\n",
        "        self.sig = None\n",
        "\n",
        "class ConjuntoDinamico:\n",
        "    def __init__(self):\n",
        "        self.__cabeza = None\n",
        "\n",
        "    # Getter\n",
        "    def get_elementos(self):\n",
        "        elementos = []\n",
        "        actual = self.__cabeza\n",
        "        while actual:\n",
        "            elementos.append(actual.dato)\n",
        "            actual = actual.sig\n",
        "        return elementos\n",
        "\n",
        "    # Setter\n",
        "    def set_elementos(self, lista):\n",
        "        self.__cabeza = None\n",
        "        for elem in lista:\n",
        "            self.agregar(elem)\n",
        "\n",
        "    def agregar(self, elem):\n",
        "        if not self.pertenece(elem):\n",
        "            nuevo = Nodo(elem)\n",
        "            nuevo.sig = self.__cabeza\n",
        "            self.__cabeza = nuevo\n",
        "\n",
        "    def quitar(self, elem):\n",
        "        actual, prev = self.__cabeza, None\n",
        "        while actual:\n",
        "            if actual.dato == elem:\n",
        "                if prev:\n",
        "                    prev.sig = actual.sig\n",
        "                else:\n",
        "                    self.__cabeza = actual.sig\n",
        "                return\n",
        "            prev, actual = actual, actual.sig\n",
        "\n",
        "    def pertenece(self, elem):\n",
        "        actual = self.__cabeza\n",
        "        while actual:\n",
        "            if actual.dato == elem:\n",
        "                return True\n",
        "            actual = actual.sig\n",
        "        return False\n",
        "\n",
        "    def __str__(self):\n",
        "        return \"{\" + \", \".join(map(str, self.get_elementos())) + \"}\"\n",
        "\n",
        "\n",
        "# Ejemplo de uso\n",
        "c3 = ConjuntoDinamico()\n",
        "c3.agregar(10)\n",
        "c3.agregar(20)\n",
        "c3.agregar(30)\n",
        "print(\"Conjunto Dinámico:\", c3)\n",
        "c3.quitar(20)\n",
        "print(\"Conjunto Dinámico después de quitar 20:\", c3)\n"
      ],
      "metadata": {
        "colab": {
          "base_uri": "https://localhost:8080/"
        },
        "id": "Z0TxOoN_0sGO",
        "outputId": "900fcc42-82f0-439c-b21c-0cc1f8848025"
      },
      "execution_count": 2,
      "outputs": [
        {
          "output_type": "stream",
          "name": "stdout",
          "text": [
            "Conjunto Dinámico: {30, 20, 10}\n",
            "Conjunto Dinámico después de quitar 20: {30, 10}\n"
          ]
        }
      ]
    },
    {
      "cell_type": "markdown",
      "source": [
        "# **Conjunto en Disco**\n",
        "\n",
        "El conjunto se guarda en un archivo de texto.\n",
        "\n",
        "Los elementos quedan almacenados aunque cierres el programa.\n",
        "\n",
        "Los métodos leen y escriben directamente en el archivo.\n",
        "\n",
        "Es útil cuando se necesita persistencia de datos.\n",
        "\n",
        "Es más lento porque depende del acceso al disco."
      ],
      "metadata": {
        "id": "sxJDMEno17eW"
      }
    },
    {
      "cell_type": "code",
      "source": [
        "import os\n",
        "\n",
        "class ConjuntoDisco:\n",
        "    def __init__(self, archivo=\"conjunto.txt\"):\n",
        "        self.__archivo = archivo\n",
        "        if not os.path.exists(self.__archivo):\n",
        "            open(self.__archivo, \"w\").close()\n",
        "\n",
        "    # Getter\n",
        "    def get_elementos(self):\n",
        "        with open(self.__archivo, \"r\") as f:\n",
        "            return list(set([line.strip() for line in f if line.strip()]))\n",
        "\n",
        "    # Setter\n",
        "    def set_elementos(self, lista):\n",
        "        with open(self.__archivo, \"w\") as f:\n",
        "            for elem in set(lista):\n",
        "                f.write(str(elem) + \"\\n\")\n",
        "\n",
        "    def agregar(self, elem):\n",
        "        elementos = self.get_elementos()\n",
        "        if str(elem) not in elementos:\n",
        "            with open(self.__archivo, \"a\") as f:\n",
        "                f.write(str(elem) + \"\\n\")\n",
        "\n",
        "    def quitar(self, elem):\n",
        "        elementos = self.get_elementos()\n",
        "        if str(elem) in elementos:\n",
        "            elementos.remove(str(elem))\n",
        "            self.set_elementos(elementos)\n",
        "\n",
        "    def __str__(self):\n",
        "        return \"{\" + \", \".join(map(str, self.get_elementos())) + \"}\"\n",
        "\n",
        "\n",
        "# Ejemplo de uso\n",
        "c4 = ConjuntoDisco(\"mis_conjuntos.txt\")\n",
        "c4.agregar(\"A\")\n",
        "c4.agregar(\"B\")\n",
        "c4.agregar(\"C\")\n",
        "print(\"Conjunto en Disco:\", c4)\n",
        "c4.quitar(\"B\")\n",
        "print(\"Después de quitar B:\", c4)\n"
      ],
      "metadata": {
        "colab": {
          "base_uri": "https://localhost:8080/"
        },
        "id": "xzGF5gCy0sqO",
        "outputId": "eb9c37a2-611f-4d57-e0ac-cc714bb4e545"
      },
      "execution_count": 1,
      "outputs": [
        {
          "output_type": "stream",
          "name": "stdout",
          "text": [
            "Conjunto en Disco: {B, A, C}\n",
            "Después de quitar B: {A, C}\n"
          ]
        }
      ]
    }
  ]
}